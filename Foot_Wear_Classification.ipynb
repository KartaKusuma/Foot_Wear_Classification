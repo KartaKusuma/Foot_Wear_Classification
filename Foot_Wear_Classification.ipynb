{
  "cells": [
    {
      "cell_type": "code",
      "execution_count": 1,
      "metadata": {
        "id": "FWj-T0yrZHEn"
      },
      "outputs": [],
      "source": [
        "!pip install -q kaggle"
      ]
    },
    {
      "cell_type": "code",
      "execution_count": 2,
      "metadata": {
        "colab": {
          "base_uri": "https://localhost:8080/",
          "height": 90
        },
        "id": "WsC-p6lgZL56",
        "outputId": "9b93c2f2-a91a-4c3e-973c-c1e4c1e82367"
      },
      "outputs": [
        {
          "output_type": "display_data",
          "data": {
            "text/plain": [
              "<IPython.core.display.HTML object>"
            ],
            "text/html": [
              "\n",
              "     <input type=\"file\" id=\"files-bc459aa2-0817-4044-8f6b-d5b1659c3190\" name=\"files[]\" multiple disabled\n",
              "        style=\"border:none\" />\n",
              "     <output id=\"result-bc459aa2-0817-4044-8f6b-d5b1659c3190\">\n",
              "      Upload widget is only available when the cell has been executed in the\n",
              "      current browser session. Please rerun this cell to enable.\n",
              "      </output>\n",
              "      <script>// Copyright 2017 Google LLC\n",
              "//\n",
              "// Licensed under the Apache License, Version 2.0 (the \"License\");\n",
              "// you may not use this file except in compliance with the License.\n",
              "// You may obtain a copy of the License at\n",
              "//\n",
              "//      http://www.apache.org/licenses/LICENSE-2.0\n",
              "//\n",
              "// Unless required by applicable law or agreed to in writing, software\n",
              "// distributed under the License is distributed on an \"AS IS\" BASIS,\n",
              "// WITHOUT WARRANTIES OR CONDITIONS OF ANY KIND, either express or implied.\n",
              "// See the License for the specific language governing permissions and\n",
              "// limitations under the License.\n",
              "\n",
              "/**\n",
              " * @fileoverview Helpers for google.colab Python module.\n",
              " */\n",
              "(function(scope) {\n",
              "function span(text, styleAttributes = {}) {\n",
              "  const element = document.createElement('span');\n",
              "  element.textContent = text;\n",
              "  for (const key of Object.keys(styleAttributes)) {\n",
              "    element.style[key] = styleAttributes[key];\n",
              "  }\n",
              "  return element;\n",
              "}\n",
              "\n",
              "// Max number of bytes which will be uploaded at a time.\n",
              "const MAX_PAYLOAD_SIZE = 100 * 1024;\n",
              "\n",
              "function _uploadFiles(inputId, outputId) {\n",
              "  const steps = uploadFilesStep(inputId, outputId);\n",
              "  const outputElement = document.getElementById(outputId);\n",
              "  // Cache steps on the outputElement to make it available for the next call\n",
              "  // to uploadFilesContinue from Python.\n",
              "  outputElement.steps = steps;\n",
              "\n",
              "  return _uploadFilesContinue(outputId);\n",
              "}\n",
              "\n",
              "// This is roughly an async generator (not supported in the browser yet),\n",
              "// where there are multiple asynchronous steps and the Python side is going\n",
              "// to poll for completion of each step.\n",
              "// This uses a Promise to block the python side on completion of each step,\n",
              "// then passes the result of the previous step as the input to the next step.\n",
              "function _uploadFilesContinue(outputId) {\n",
              "  const outputElement = document.getElementById(outputId);\n",
              "  const steps = outputElement.steps;\n",
              "\n",
              "  const next = steps.next(outputElement.lastPromiseValue);\n",
              "  return Promise.resolve(next.value.promise).then((value) => {\n",
              "    // Cache the last promise value to make it available to the next\n",
              "    // step of the generator.\n",
              "    outputElement.lastPromiseValue = value;\n",
              "    return next.value.response;\n",
              "  });\n",
              "}\n",
              "\n",
              "/**\n",
              " * Generator function which is called between each async step of the upload\n",
              " * process.\n",
              " * @param {string} inputId Element ID of the input file picker element.\n",
              " * @param {string} outputId Element ID of the output display.\n",
              " * @return {!Iterable<!Object>} Iterable of next steps.\n",
              " */\n",
              "function* uploadFilesStep(inputId, outputId) {\n",
              "  const inputElement = document.getElementById(inputId);\n",
              "  inputElement.disabled = false;\n",
              "\n",
              "  const outputElement = document.getElementById(outputId);\n",
              "  outputElement.innerHTML = '';\n",
              "\n",
              "  const pickedPromise = new Promise((resolve) => {\n",
              "    inputElement.addEventListener('change', (e) => {\n",
              "      resolve(e.target.files);\n",
              "    });\n",
              "  });\n",
              "\n",
              "  const cancel = document.createElement('button');\n",
              "  inputElement.parentElement.appendChild(cancel);\n",
              "  cancel.textContent = 'Cancel upload';\n",
              "  const cancelPromise = new Promise((resolve) => {\n",
              "    cancel.onclick = () => {\n",
              "      resolve(null);\n",
              "    };\n",
              "  });\n",
              "\n",
              "  // Wait for the user to pick the files.\n",
              "  const files = yield {\n",
              "    promise: Promise.race([pickedPromise, cancelPromise]),\n",
              "    response: {\n",
              "      action: 'starting',\n",
              "    }\n",
              "  };\n",
              "\n",
              "  cancel.remove();\n",
              "\n",
              "  // Disable the input element since further picks are not allowed.\n",
              "  inputElement.disabled = true;\n",
              "\n",
              "  if (!files) {\n",
              "    return {\n",
              "      response: {\n",
              "        action: 'complete',\n",
              "      }\n",
              "    };\n",
              "  }\n",
              "\n",
              "  for (const file of files) {\n",
              "    const li = document.createElement('li');\n",
              "    li.append(span(file.name, {fontWeight: 'bold'}));\n",
              "    li.append(span(\n",
              "        `(${file.type || 'n/a'}) - ${file.size} bytes, ` +\n",
              "        `last modified: ${\n",
              "            file.lastModifiedDate ? file.lastModifiedDate.toLocaleDateString() :\n",
              "                                    'n/a'} - `));\n",
              "    const percent = span('0% done');\n",
              "    li.appendChild(percent);\n",
              "\n",
              "    outputElement.appendChild(li);\n",
              "\n",
              "    const fileDataPromise = new Promise((resolve) => {\n",
              "      const reader = new FileReader();\n",
              "      reader.onload = (e) => {\n",
              "        resolve(e.target.result);\n",
              "      };\n",
              "      reader.readAsArrayBuffer(file);\n",
              "    });\n",
              "    // Wait for the data to be ready.\n",
              "    let fileData = yield {\n",
              "      promise: fileDataPromise,\n",
              "      response: {\n",
              "        action: 'continue',\n",
              "      }\n",
              "    };\n",
              "\n",
              "    // Use a chunked sending to avoid message size limits. See b/62115660.\n",
              "    let position = 0;\n",
              "    do {\n",
              "      const length = Math.min(fileData.byteLength - position, MAX_PAYLOAD_SIZE);\n",
              "      const chunk = new Uint8Array(fileData, position, length);\n",
              "      position += length;\n",
              "\n",
              "      const base64 = btoa(String.fromCharCode.apply(null, chunk));\n",
              "      yield {\n",
              "        response: {\n",
              "          action: 'append',\n",
              "          file: file.name,\n",
              "          data: base64,\n",
              "        },\n",
              "      };\n",
              "\n",
              "      let percentDone = fileData.byteLength === 0 ?\n",
              "          100 :\n",
              "          Math.round((position / fileData.byteLength) * 100);\n",
              "      percent.textContent = `${percentDone}% done`;\n",
              "\n",
              "    } while (position < fileData.byteLength);\n",
              "  }\n",
              "\n",
              "  // All done.\n",
              "  yield {\n",
              "    response: {\n",
              "      action: 'complete',\n",
              "    }\n",
              "  };\n",
              "}\n",
              "\n",
              "scope.google = scope.google || {};\n",
              "scope.google.colab = scope.google.colab || {};\n",
              "scope.google.colab._files = {\n",
              "  _uploadFiles,\n",
              "  _uploadFilesContinue,\n",
              "};\n",
              "})(self);\n",
              "</script> "
            ]
          },
          "metadata": {}
        },
        {
          "output_type": "stream",
          "name": "stdout",
          "text": [
            "Saving kaggle.json to kaggle.json\n"
          ]
        },
        {
          "output_type": "execute_result",
          "data": {
            "text/plain": [
              "{'kaggle.json': b'{\"username\":\"kartakusumakk\",\"key\":\"445e71c6dd76e03c47943771bd9369ee\"}'}"
            ]
          },
          "metadata": {},
          "execution_count": 2
        }
      ],
      "source": [
        "from google.colab import files\n",
        "files.upload()"
      ]
    },
    {
      "cell_type": "code",
      "execution_count": 3,
      "metadata": {
        "colab": {
          "base_uri": "https://localhost:8080/"
        },
        "id": "hRhXRN40ZRVC",
        "outputId": "958ba84f-448b-45b6-e5e0-9f07dfa6676c"
      },
      "outputs": [
        {
          "output_type": "stream",
          "name": "stdout",
          "text": [
            "kaggle.json\n"
          ]
        }
      ],
      "source": [
        "!mkdir -p ~/.kaggle\n",
        "!cp kaggle.json ~/.kaggle\n",
        "!chmod 600 ~/.kaggle/kaggle.json\n",
        "!ls ~/.kaggle"
      ]
    },
    {
      "cell_type": "code",
      "execution_count": 4,
      "metadata": {
        "colab": {
          "base_uri": "https://localhost:8080/"
        },
        "id": "HW9w2P2BZhg2",
        "outputId": "acdf3796-7167-41da-e559-bc48ce10d0f7"
      },
      "outputs": [
        {
          "output_type": "stream",
          "name": "stdout",
          "text": [
            "Downloading shoe-vs-sandal-vs-boot-dataset-15k-images.zip to /content\n",
            " 79% 37.0M/47.0M [00:00<00:00, 134MB/s] \n",
            "100% 47.0M/47.0M [00:00<00:00, 116MB/s]\n"
          ]
        }
      ],
      "source": [
        "!kaggle datasets download -d hasibalmuzdadid/shoe-vs-sandal-vs-boot-dataset-15k-images"
      ]
    },
    {
      "cell_type": "code",
      "execution_count": 5,
      "metadata": {
        "colab": {
          "base_uri": "https://localhost:8080/"
        },
        "id": "Jm2jGEgnZm-Y",
        "outputId": "479cbd5d-404c-41fb-83c7-5948c4a48386"
      },
      "outputs": [
        {
          "output_type": "stream",
          "name": "stdout",
          "text": [
            "'Shoe vs Sandal vs Boot Dataset'\n"
          ]
        }
      ],
      "source": [
        "!mkdir dataset\n",
        "!unzip -qq shoe-vs-sandal-vs-boot-dataset-15k-images.zip -d dataset\n",
        "!ls dataset"
      ]
    },
    {
      "cell_type": "code",
      "execution_count": 6,
      "metadata": {
        "colab": {
          "base_uri": "https://localhost:8080/"
        },
        "id": "tBHc_icpZ18B",
        "outputId": "11ed3005-8045-46d4-ca6b-85aeea725000"
      },
      "outputs": [
        {
          "output_type": "stream",
          "name": "stdout",
          "text": [
            "Boot  Sandal  Shoe\n"
          ]
        }
      ],
      "source": [
        "!ls 'dataset/Shoe vs Sandal vs Boot Dataset'"
      ]
    },
    {
      "cell_type": "code",
      "execution_count": 7,
      "metadata": {
        "colab": {
          "base_uri": "https://localhost:8080/"
        },
        "id": "nDVYWMAXaGN8",
        "outputId": "f1ade296-3670-427e-b37f-34013e0ac8c0"
      },
      "outputs": [
        {
          "output_type": "stream",
          "name": "stdout",
          "text": [
            "['Boot', 'Sandal', 'Shoe']\n"
          ]
        }
      ],
      "source": [
        "import os\n",
        "\n",
        "dataset = os.path.join('/content/dataset/Shoe vs Sandal vs Boot Dataset')\n",
        "print(os.listdir(dataset))"
      ]
    },
    {
      "cell_type": "code",
      "execution_count": 8,
      "metadata": {
        "colab": {
          "base_uri": "https://localhost:8080/"
        },
        "id": "nJugYVPfaj3-",
        "outputId": "c9024620-b36d-4f25-eddd-088ef5d9d292"
      },
      "outputs": [
        {
          "output_type": "stream",
          "name": "stdout",
          "text": [
            "Looking in indexes: https://pypi.org/simple, https://us-python.pkg.dev/colab-wheels/public/simple/\n",
            "Collecting split-folders\n",
            "  Downloading split_folders-0.5.1-py3-none-any.whl (8.4 kB)\n",
            "Installing collected packages: split-folders\n",
            "Successfully installed split-folders-0.5.1\n"
          ]
        }
      ],
      "source": [
        "pip install split-folders"
      ]
    },
    {
      "cell_type": "code",
      "execution_count": 9,
      "metadata": {
        "colab": {
          "base_uri": "https://localhost:8080/"
        },
        "id": "RChqug3Ndjc8",
        "outputId": "7c9e8aae-08c4-42e7-ef52-5b42da7f5eb7"
      },
      "outputs": [
        {
          "output_type": "stream",
          "name": "stderr",
          "text": [
            "Copying files: 15000 files [00:03, 4189.37 files/s]\n"
          ]
        }
      ],
      "source": [
        "import splitfolders\n",
        "\n",
        "foot_wear = '/content/foot_wear'\n",
        "splitfolders.ratio(dataset, output=foot_wear, seed=1337, ratio=(0.8, 0.2))"
      ]
    },
    {
      "cell_type": "code",
      "execution_count": 10,
      "metadata": {
        "id": "r4kSdIm5eQ4S"
      },
      "outputs": [],
      "source": [
        "train_dir = os.path.join(foot_wear, 'train')\n",
        "val_dir = os.path.join(foot_wear, 'val')"
      ]
    },
    {
      "cell_type": "code",
      "execution_count": 11,
      "metadata": {
        "id": "dqLhjrwOeW03"
      },
      "outputs": [],
      "source": [
        "from tensorflow.keras.preprocessing.image import ImageDataGenerator\n",
        "\n",
        "train_datagen = ImageDataGenerator(\n",
        "    rescale=1.0/255,\n",
        "    rotation_range=30,\n",
        "    width_shift_range=0.2,\n",
        "    height_shift_range=0.2,\n",
        "    shear_range=0.2,\n",
        "    zoom_range=0.2,\n",
        "    horizontal_flip=True,\n",
        "    fill_mode='nearest'\n",
        ")\n",
        "\n",
        "test_datagen = ImageDataGenerator(\n",
        "    rescale=1.0/255\n",
        ")"
      ]
    },
    {
      "cell_type": "code",
      "execution_count": 12,
      "metadata": {
        "colab": {
          "base_uri": "https://localhost:8080/"
        },
        "id": "TDnHMr4ner8L",
        "outputId": "76fd2475-cd23-4a81-d158-8f115310fef1"
      },
      "outputs": [
        {
          "output_type": "stream",
          "name": "stdout",
          "text": [
            "Found 12000 images belonging to 3 classes.\n",
            "Found 3000 images belonging to 3 classes.\n"
          ]
        }
      ],
      "source": [
        "train_data = train_datagen.flow_from_directory(\n",
        "    train_dir,\n",
        "    target_size=(150, 150),\n",
        "    batch_size=128,\n",
        "    class_mode='categorical'\n",
        ")\n",
        "\n",
        "val_data = test_datagen.flow_from_directory(\n",
        "    val_dir,\n",
        "    target_size=(150, 150),\n",
        "    batch_size=128,\n",
        "    class_mode='categorical'\n",
        ")"
      ]
    },
    {
      "cell_type": "code",
      "execution_count": 13,
      "metadata": {
        "id": "yGItoOBlhAYK"
      },
      "outputs": [],
      "source": [
        "import tensorflow as tf"
      ]
    },
    {
      "cell_type": "code",
      "execution_count": 14,
      "metadata": {
        "colab": {
          "base_uri": "https://localhost:8080/"
        },
        "id": "uItUq0DWhY5A",
        "outputId": "69057047-3f11-444b-f0eb-7f18e560365b"
      },
      "outputs": [
        {
          "output_type": "stream",
          "name": "stdout",
          "text": [
            "Model: \"sequential\"\n",
            "_________________________________________________________________\n",
            " Layer (type)                Output Shape              Param #   \n",
            "=================================================================\n",
            " conv2d (Conv2D)             (None, 148, 148, 32)      896       \n",
            "                                                                 \n",
            " max_pooling2d (MaxPooling2D  (None, 74, 74, 32)       0         \n",
            " )                                                               \n",
            "                                                                 \n",
            " conv2d_1 (Conv2D)           (None, 72, 72, 64)        18496     \n",
            "                                                                 \n",
            " max_pooling2d_1 (MaxPooling  (None, 36, 36, 64)       0         \n",
            " 2D)                                                             \n",
            "                                                                 \n",
            " conv2d_2 (Conv2D)           (None, 34, 34, 128)       73856     \n",
            "                                                                 \n",
            " max_pooling2d_2 (MaxPooling  (None, 17, 17, 128)      0         \n",
            " 2D)                                                             \n",
            "                                                                 \n",
            " conv2d_3 (Conv2D)           (None, 15, 15, 512)       590336    \n",
            "                                                                 \n",
            " max_pooling2d_3 (MaxPooling  (None, 7, 7, 512)        0         \n",
            " 2D)                                                             \n",
            "                                                                 \n",
            " flatten (Flatten)           (None, 25088)             0         \n",
            "                                                                 \n",
            " dropout (Dropout)           (None, 25088)             0         \n",
            "                                                                 \n",
            " dense (Dense)               (None, 512)               12845568  \n",
            "                                                                 \n",
            " dense_1 (Dense)             (None, 3)                 1539      \n",
            "                                                                 \n",
            "=================================================================\n",
            "Total params: 13,530,691\n",
            "Trainable params: 13,530,691\n",
            "Non-trainable params: 0\n",
            "_________________________________________________________________\n"
          ]
        }
      ],
      "source": [
        "model = tf.keras.models.Sequential([\n",
        "    tf.keras.layers.Conv2D(32, (3, 3), activation='relu', input_shape=(150, 150, 3)),\n",
        "    tf.keras.layers.MaxPooling2D(2, 2),\n",
        "    tf.keras.layers.Conv2D(64, (3, 3), activation='relu'),\n",
        "    tf.keras.layers.MaxPooling2D(2, 2),\n",
        "    tf.keras.layers.Conv2D(128, (3, 3), activation='relu'),\n",
        "    tf.keras.layers.MaxPooling2D(2, 2),\n",
        "    tf.keras.layers.Conv2D(512, (3, 3), activation='relu'),\n",
        "    tf.keras.layers.MaxPooling2D(2, 2),\n",
        "    tf.keras.layers.Flatten(),\n",
        "    tf.keras.layers.Dropout(0.5),\n",
        "    tf.keras.layers.Dense(512, activation='relu'),\n",
        "    tf.keras.layers.Dense(3, activation='softmax')\n",
        "])\n",
        "\n",
        "model.compile(\n",
        "    loss='categorical_crossentropy',\n",
        "    optimizer=tf.optimizers.Adam(learning_rate=1e-4),\n",
        "    metrics=['accuracy']\n",
        ")\n",
        "\n",
        "model.summary()"
      ]
    },
    {
      "cell_type": "code",
      "execution_count": 15,
      "metadata": {
        "id": "wNC-QiGViDkY"
      },
      "outputs": [],
      "source": [
        "val_stop = 0.90\n",
        "\n",
        "class myCallback(tf.keras.callbacks.Callback):\n",
        "  def on_epoch_end(self, epoch, logs={}):\n",
        "    if (logs.get('accuracy') > val_stop and logs.get('val_accuracy') > val_stop):\n",
        "      print('\\nAccuray mencapai ~90%, training diakhiri!')\n",
        "      self.model.stop_training = True\n",
        "\n",
        "callback = myCallback()"
      ]
    },
    {
      "cell_type": "code",
      "execution_count": 16,
      "metadata": {
        "colab": {
          "base_uri": "https://localhost:8080/"
        },
        "id": "gplNJLcTjDab",
        "outputId": "1a2c87c8-6b3c-41ee-ab97-c9baa5cdf7c1"
      },
      "outputs": [
        {
          "output_type": "stream",
          "name": "stdout",
          "text": [
            "Epoch 1/40\n",
            "25/25 - 230s - loss: 1.0515 - accuracy: 0.4476 - val_loss: 0.8585 - val_accuracy: 0.6406 - 230s/epoch - 9s/step\n",
            "Epoch 2/40\n",
            "25/25 - 214s - loss: 0.9284 - accuracy: 0.5378 - val_loss: 0.7162 - val_accuracy: 0.6797 - 214s/epoch - 9s/step\n",
            "Epoch 3/40\n",
            "25/25 - 216s - loss: 0.8647 - accuracy: 0.5844 - val_loss: 0.6883 - val_accuracy: 0.7094 - 216s/epoch - 9s/step\n",
            "Epoch 4/40\n",
            "25/25 - 224s - loss: 0.8208 - accuracy: 0.6172 - val_loss: 0.6590 - val_accuracy: 0.7063 - 224s/epoch - 9s/step\n",
            "Epoch 5/40\n",
            "25/25 - 213s - loss: 0.7980 - accuracy: 0.6356 - val_loss: 0.6298 - val_accuracy: 0.7203 - 213s/epoch - 9s/step\n",
            "Epoch 6/40\n",
            "25/25 - 212s - loss: 0.7770 - accuracy: 0.6531 - val_loss: 0.6525 - val_accuracy: 0.6969 - 212s/epoch - 8s/step\n",
            "Epoch 7/40\n",
            "25/25 - 215s - loss: 0.7254 - accuracy: 0.6734 - val_loss: 0.6013 - val_accuracy: 0.7656 - 215s/epoch - 9s/step\n",
            "Epoch 8/40\n",
            "25/25 - 216s - loss: 0.6979 - accuracy: 0.6819 - val_loss: 0.6091 - val_accuracy: 0.7391 - 216s/epoch - 9s/step\n",
            "Epoch 9/40\n",
            "25/25 - 212s - loss: 0.6878 - accuracy: 0.6947 - val_loss: 0.5995 - val_accuracy: 0.7766 - 212s/epoch - 8s/step\n",
            "Epoch 10/40\n",
            "25/25 - 216s - loss: 0.6566 - accuracy: 0.7150 - val_loss: 0.6552 - val_accuracy: 0.7234 - 216s/epoch - 9s/step\n",
            "Epoch 11/40\n",
            "25/25 - 210s - loss: 0.6524 - accuracy: 0.7090 - val_loss: 0.5319 - val_accuracy: 0.8031 - 210s/epoch - 8s/step\n",
            "Epoch 12/40\n",
            "25/25 - 216s - loss: 0.6103 - accuracy: 0.7397 - val_loss: 0.5197 - val_accuracy: 0.7797 - 216s/epoch - 9s/step\n",
            "Epoch 13/40\n",
            "25/25 - 210s - loss: 0.6159 - accuracy: 0.7251 - val_loss: 0.5471 - val_accuracy: 0.7797 - 210s/epoch - 8s/step\n",
            "Epoch 14/40\n",
            "25/25 - 212s - loss: 0.5985 - accuracy: 0.7378 - val_loss: 0.4873 - val_accuracy: 0.8172 - 212s/epoch - 8s/step\n",
            "Epoch 15/40\n",
            "25/25 - 211s - loss: 0.5845 - accuracy: 0.7441 - val_loss: 0.5324 - val_accuracy: 0.7969 - 211s/epoch - 8s/step\n",
            "Epoch 16/40\n",
            "25/25 - 210s - loss: 0.5778 - accuracy: 0.7534 - val_loss: 0.5240 - val_accuracy: 0.8000 - 210s/epoch - 8s/step\n",
            "Epoch 17/40\n",
            "25/25 - 210s - loss: 0.5516 - accuracy: 0.7663 - val_loss: 0.4381 - val_accuracy: 0.8359 - 210s/epoch - 8s/step\n",
            "Epoch 18/40\n",
            "25/25 - 208s - loss: 0.5411 - accuracy: 0.7633 - val_loss: 0.4490 - val_accuracy: 0.8313 - 208s/epoch - 8s/step\n",
            "Epoch 19/40\n",
            "25/25 - 212s - loss: 0.5025 - accuracy: 0.7969 - val_loss: 0.4378 - val_accuracy: 0.8266 - 212s/epoch - 8s/step\n",
            "Epoch 20/40\n",
            "25/25 - 211s - loss: 0.5204 - accuracy: 0.7847 - val_loss: 0.4408 - val_accuracy: 0.8234 - 211s/epoch - 8s/step\n",
            "Epoch 21/40\n",
            "25/25 - 205s - loss: 0.5292 - accuracy: 0.7778 - val_loss: 0.3779 - val_accuracy: 0.8703 - 205s/epoch - 8s/step\n",
            "Epoch 22/40\n",
            "25/25 - 208s - loss: 0.4882 - accuracy: 0.7972 - val_loss: 0.4092 - val_accuracy: 0.8516 - 208s/epoch - 8s/step\n",
            "Epoch 23/40\n",
            "25/25 - 208s - loss: 0.4930 - accuracy: 0.7962 - val_loss: 0.3497 - val_accuracy: 0.8797 - 208s/epoch - 8s/step\n",
            "Epoch 24/40\n",
            "25/25 - 208s - loss: 0.4948 - accuracy: 0.7978 - val_loss: 0.3627 - val_accuracy: 0.8797 - 208s/epoch - 8s/step\n",
            "Epoch 25/40\n",
            "25/25 - 206s - loss: 0.4458 - accuracy: 0.8166 - val_loss: 0.3249 - val_accuracy: 0.8703 - 206s/epoch - 8s/step\n",
            "Epoch 26/40\n",
            "25/25 - 210s - loss: 0.4476 - accuracy: 0.8172 - val_loss: 0.3227 - val_accuracy: 0.8719 - 210s/epoch - 8s/step\n",
            "Epoch 27/40\n",
            "25/25 - 208s - loss: 0.4596 - accuracy: 0.8097 - val_loss: 0.3657 - val_accuracy: 0.8562 - 208s/epoch - 8s/step\n",
            "Epoch 28/40\n",
            "25/25 - 207s - loss: 0.4643 - accuracy: 0.8094 - val_loss: 0.3241 - val_accuracy: 0.9016 - 207s/epoch - 8s/step\n",
            "Epoch 29/40\n",
            "25/25 - 209s - loss: 0.4553 - accuracy: 0.8116 - val_loss: 0.3133 - val_accuracy: 0.8875 - 209s/epoch - 8s/step\n",
            "Epoch 30/40\n",
            "25/25 - 206s - loss: 0.4296 - accuracy: 0.8219 - val_loss: 0.3364 - val_accuracy: 0.8687 - 206s/epoch - 8s/step\n",
            "Epoch 31/40\n",
            "25/25 - 207s - loss: 0.4271 - accuracy: 0.8203 - val_loss: 0.3258 - val_accuracy: 0.8844 - 207s/epoch - 8s/step\n",
            "Epoch 32/40\n",
            "25/25 - 211s - loss: 0.4388 - accuracy: 0.8244 - val_loss: 0.2561 - val_accuracy: 0.9125 - 211s/epoch - 8s/step\n",
            "Epoch 33/40\n",
            "25/25 - 208s - loss: 0.4277 - accuracy: 0.8278 - val_loss: 0.3476 - val_accuracy: 0.8578 - 208s/epoch - 8s/step\n",
            "Epoch 34/40\n",
            "25/25 - 209s - loss: 0.4126 - accuracy: 0.8365 - val_loss: 0.3065 - val_accuracy: 0.8859 - 209s/epoch - 8s/step\n",
            "Epoch 35/40\n",
            "25/25 - 210s - loss: 0.4235 - accuracy: 0.8217 - val_loss: 0.3097 - val_accuracy: 0.8828 - 210s/epoch - 8s/step\n",
            "Epoch 36/40\n",
            "25/25 - 204s - loss: 0.4372 - accuracy: 0.8245 - val_loss: 0.2558 - val_accuracy: 0.9094 - 204s/epoch - 8s/step\n",
            "Epoch 37/40\n",
            "25/25 - 209s - loss: 0.4163 - accuracy: 0.8309 - val_loss: 0.3099 - val_accuracy: 0.8844 - 209s/epoch - 8s/step\n",
            "Epoch 38/40\n",
            "25/25 - 209s - loss: 0.4141 - accuracy: 0.8375 - val_loss: 0.2538 - val_accuracy: 0.9125 - 209s/epoch - 8s/step\n",
            "Epoch 39/40\n",
            "25/25 - 210s - loss: 0.4026 - accuracy: 0.8366 - val_loss: 0.2790 - val_accuracy: 0.9078 - 210s/epoch - 8s/step\n",
            "Epoch 40/40\n",
            "25/25 - 208s - loss: 0.4096 - accuracy: 0.8225 - val_loss: 0.3492 - val_accuracy: 0.8672 - 208s/epoch - 8s/step\n"
          ]
        }
      ],
      "source": [
        "num_epochs = 40\n",
        "history = model.fit(\n",
        "    train_data,\n",
        "    steps_per_epoch=25,\n",
        "    epochs=num_epochs,\n",
        "    validation_data=val_data,\n",
        "    validation_steps=5,\n",
        "    verbose=2,\n",
        "    callbacks=[callback]\n",
        ")"
      ]
    },
    {
      "cell_type": "code",
      "execution_count": 17,
      "metadata": {
        "id": "dNtKrBLojgKN"
      },
      "outputs": [],
      "source": [
        "import matplotlib.pyplot as plt\n",
        "import numpy as np"
      ]
    },
    {
      "cell_type": "code",
      "execution_count": 18,
      "metadata": {
        "colab": {
          "base_uri": "https://localhost:8080/",
          "height": 367
        },
        "id": "bGH8qWOo2Nb2",
        "outputId": "25277cd0-f94a-4968-f787-55c54eb539eb"
      },
      "outputs": [
        {
          "output_type": "execute_result",
          "data": {
            "text/plain": [
              "<matplotlib.legend.Legend at 0x7f2ae4823a10>"
            ]
          },
          "metadata": {},
          "execution_count": 18
        },
        {
          "output_type": "display_data",
          "data": {
            "text/plain": [
              "<Figure size 720x360 with 1 Axes>"
            ],
            "image/png": "[encoded data removed]"
          },
          "metadata": {
            "needs_background": "light"
          }
        }
      ],
      "source": [
        "plt.figure(figsize=(10, 5))\n",
        "plt.plot(np.arange(0, num_epochs), history.history[\"accuracy\"], label=\"training\")\n",
        "plt.plot(np.arange(0, num_epochs), history.history[\"val_accuracy\"], label=\"validation\")\n",
        "plt.title(\"Accuracy\")\n",
        "plt.xlabel(\"Epoch\")\n",
        "plt.ylabel(\"Accuracy\")\n",
        "plt.legend()"
      ]
    },
    {
      "cell_type": "code",
      "execution_count": 19,
      "metadata": {
        "colab": {
          "base_uri": "https://localhost:8080/",
          "height": 371
        },
        "id": "rSieNAMu2RYe",
        "outputId": "354d0b7f-f77d-47df-b0d1-5a4f05bec0f5"
      },
      "outputs": [
        {
          "output_type": "execute_result",
          "data": {
            "text/plain": [
              "<matplotlib.legend.Legend at 0x7f2ae43293d0>"
            ]
          },
          "metadata": {},
          "execution_count": 19
        },
        {
          "output_type": "display_data",
          "data": {
            "text/plain": [
              "<Figure size 720x360 with 1 Axes>"
            ],
            "image/png": "[encoded data removed]"
          },
          "metadata": {}
        }
      ],
      "source": [
        "plt.style.use(\"ggplot\")\n",
        "plt.figure(figsize=(10, 5))\n",
        "plt.plot(np.arange(0, num_epochs), history.history[\"loss\"], label=\"training\")\n",
        "plt.plot(np.arange(0, num_epochs), history.history[\"val_loss\"], label=\"validation\")\n",
        "plt.title(\"Loss\")\n",
        "plt.xlabel(\"Epoch\")\n",
        "plt.ylabel(\"Loss\")\n",
        "plt.legend()"
      ]
    },
    {
      "cell_type": "code",
      "execution_count": 20,
      "metadata": {
        "colab": {
          "base_uri": "https://localhost:8080/"
        },
        "id": "oTd7G8x_0Lqh",
        "outputId": "df39f1c9-dded-48a6-e3f3-f38bcef4f4a0"
      },
      "outputs": [
        {
          "output_type": "stream",
          "name": "stderr",
          "text": [
            "WARNING:absl:Found untraced functions such as _jit_compiled_convolution_op, _jit_compiled_convolution_op, _jit_compiled_convolution_op, _jit_compiled_convolution_op while saving (showing 4 of 4). These functions will not be directly callable after loading.\n"
          ]
        }
      ],
      "source": [
        "export_dir = 'saved_model/'\n",
        "tf.saved_model.save(model, export_dir)"
      ]
    },
    {
      "cell_type": "code",
      "execution_count": 21,
      "metadata": {
        "id": "vQeIPA4T1zvI"
      },
      "outputs": [],
      "source": [
        "converter = tf.lite.TFLiteConverter.from_saved_model(export_dir)\n",
        "tflite_model = converter.convert()"
      ]
    },
    {
      "cell_type": "code",
      "execution_count": 22,
      "metadata": {
        "colab": {
          "base_uri": "https://localhost:8080/"
        },
        "id": "BZXfUMpp13UP",
        "outputId": "7cf4142d-83fc-4f7f-bde1-2b6c801d456f"
      },
      "outputs": [
        {
          "output_type": "execute_result",
          "data": {
            "text/plain": [
              "54127392"
            ]
          },
          "metadata": {},
          "execution_count": 22
        }
      ],
      "source": [
        "import pathlib\n",
        "\n",
        "tflite_model_file = pathlib.Path('vegs.tflite')\n",
        "tflite_model_file.write_bytes(tflite_model)"
      ]
    }
  ],
  "metadata": {
    "colab": {
      "provenance": []
    },
    "kernelspec": {
      "display_name": "Python 3",
      "name": "python3"
    },
    "language_info": {
      "name": "python"
    }
  },
  "nbformat": 4,
  "nbformat_minor": 0
}